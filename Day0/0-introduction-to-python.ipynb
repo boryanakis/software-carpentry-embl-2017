{
 "cells": [
  {
   "cell_type": "markdown",
   "metadata": {},
   "source": [
    "# Software Carpentry @EMBL 2017\n",
    "\n",
    "## Day 0: Introduction to Python"
   ]
  },
  {
   "cell_type": "markdown",
   "metadata": {},
   "source": [
    "1. [Introduction](#Introduction)\n",
    "2. [Variables](#Variables)\n",
    "3. [Data Structures](#Data-Structures)\n",
    "4. [Loops](#Loops)\n",
    "5. [Conditionals](#Conditionals)"
   ]
  },
  {
   "cell_type": "markdown",
   "metadata": {},
   "source": [
    "### Introduction"
   ]
  },
  {
   "cell_type": "markdown",
   "metadata": {},
   "source": [
    "This material provides an introduction to the Python Programming language. It is intended to provide the learner with a basic understanding of Python: the syntax; the important concepts; the fundamental data structures. This lesson will the provide the foundation for the 'core' Python programming sessions on Days 2 & 3.\n",
    "\n",
    "If you are attending Day 0 of the course, there is no need to work through this notebook on your own - we will cover the material during the optional session. However, if you aren't attending the optional half-day, please look through this material and make sure that you are familiar with the concepts introduced here."
   ]
  },
  {
   "cell_type": "markdown",
   "metadata": {},
   "source": [
    "#### Getting Python"
   ]
  },
  {
   "cell_type": "markdown",
   "metadata": {},
   "source": [
    "If the computer you're working has a Mac OSX or Linux operating system, then Python is already installed. If not, or if you would like to make sure that you have a more up-to-date version to work with, you will need to install Python. We recommend installing the __Anaconda distribution__, which you can download from here: https://www.anaconda.com/download/ . All our course material is written for version 3.6, but we provide notes where things are different for version 2.7 (more about Python versions during the course!). <font color='firebrick'>_Note: clicking on the download links on that webpage will cause a pop-up to open, asking for your email address - just click \"No thanks\" if you'd prefer not to give your details: you can download the installer anyway._</font>\n",
    "\n",
    "There are several advantages of using Anaconda, even if you have a native installation already available:\n",
    "\n",
    "- you get a more up-to-date version of the language\n",
    "- it comes with many of the modules commonly required for performing data analysis, statistics, visualisation etc already installed. (More about using these modules later.)\n",
    "- it includes a package manager, called `conda`, which makes it very easy to install additional modules\n",
    "- it includes a decent Python development environment, called Spyder, and Jupyter, which you will need to work most effectively with these course materials"
   ]
  },
  {
   "cell_type": "markdown",
   "metadata": {},
   "source": [
    "#### Using these materials"
   ]
  },
  {
   "cell_type": "markdown",
   "metadata": {},
   "source": [
    "This document is a _Jupyter Notebook_: a web browser-based format in which it's possible to mix sections of text (such as this one) with cells of code, images, etc. The file can be displayed in a fixed, 'static', form or, using a _Jupyter server_ it can be rendered interactively, allowing the user to edit and execute new and existing code blocks, and make additional notes in text blocks etc. A brief overview of your options when working with this document:"
   ]
  },
  {
   "cell_type": "markdown",
   "metadata": {},
   "source": [
    "__1. Work in the Python shell.__ This is probably the simplest option. Once you have Python installed (see above), open a terminal and type:\n",
    "\n",
    "```bash\n",
    "python\n",
    "```\n",
    "\n",
    "You should see the prompt change to __`>>>`__, which indicates that you are now in the Python _shell_. At this prompt you can type or copy/paste any of the code lines/blocks written below, and press 'enter' to execute them. To leave this shell environment, type:\n",
    "\n",
    "```python\n",
    "exit()\n",
    "```\n",
    "\n",
    "__2. Work in a integrated development environment (IDE) e.g. Spyder.__ An integrated development environment provides a richer setting for experimenting with the langauge than can be provided by a shell or a simple text editor. Spyder s typical of many IDEs: it provides a text editor window, which can be used to write multiple-line _scripts_ of Python commands and a shell window to try out individual lines/display the output of executing the scripts. It also provides a third pane that can be used to inspect objects in your environment, help pages, figures created by your code etc.\n",
    "\n",
    "__3. Work with the interactive notebook.__ To run this notebook interactively, you need a Jupyter server. If you installed Anaconda, you have Jupyter installed already. Download this notebook, open a terminal and type:\n",
    "\n",
    "```bash\n",
    "jupyter notebook\n",
    "```\n",
    "\n",
    "After a few moments, a new web browser window/tab should open, displaying a menu that can be used like a file browser - click on the links to open the corresponding file or folder on your filesystem. Through this interface, navigate to wherever you downloaded the notebook file to, and click on the notebook filename. A new tab should open, with the notebook rendered in it.\n",
    "\n",
    "To work with the notebook, click in one of the code cells (these are the cells with `In [ ]:` next to them), then press 'ctrl+enter' to execute that cell. You can also use 'alt+enter' to execute the cell and open a new, blank, code cell underneath. You can go back and edit cells before re-executing them. Be aware of a few things:\n",
    "\n",
    "- the execution order of the cells is important and sometimes not immediately obvious. \"Normal\" Python code is interpreted from top to bottom i.e. the values associated with things at the bottom are determined by whatever was written above. In a Jupyter notebook, cells can be executed in whatever order the user likes. this means that the lower of two cells, if executed before the higher, can influence the output of the higher. Pay attention to the numbers in the `[ ]` next to the cells - this tells you the order in which cells were executed.\n",
    "- you might want to create a new cell for your own experimentation, instead of editing/overwriting the pre-exisiting example cells. This will help you to avoid getting stuck after having deleted a working example. If you do get in a muddle, you have a couple of options: pressing 'ctrl+z' will undo the most recent changes in a cell, just like you're probably used to; or you can copy/paste the cells from this notebook if you have it open in a browser.\n",
    "- you can change the type of the cell you're working on using the dropdown menu at the top of the page - text cells are refered to as 'Markdown'.\n",
    "\n",
    "A more comprehensive introduction to Jupyter will be provided during the course."
   ]
  },
  {
   "cell_type": "markdown",
   "metadata": {},
   "source": [
    "#### The Language"
   ]
  },
  {
   "cell_type": "markdown",
   "metadata": {},
   "source": [
    "Python is a high-level programming language, which is highly versatile, relatively accessible, and extremely well-supported. If you've never programmed before, Python is a great language to start with. A couple of the big reasons for this are: by the standards of programming languages, it is easy for humans to read; and, instead of spending a lot of time worrying about defining rigid types and arranging things in multiple files, it is quick to get started with _actually doing things_ with Python."
   ]
  },
  {
   "cell_type": "markdown",
   "metadata": {},
   "source": [
    "### Variables"
   ]
  },
  {
   "cell_type": "markdown",
   "metadata": {},
   "source": [
    "The basic building blocks of Python are variables - small packages of data, which can be processed, operated on, and returned as the desired output of a program.\n",
    "\n",
    "One simple datatype is an integer value:"
   ]
  },
  {
   "cell_type": "markdown",
   "metadata": {},
   "source": [
    "#### Integers"
   ]
  },
  {
   "cell_type": "code",
   "execution_count": null,
   "metadata": {
    "collapsed": false
   },
   "outputs": [],
   "source": [
    "100"
   ]
  },
  {
   "cell_type": "markdown",
   "metadata": {},
   "source": [
    "These integer values can be combined in mathematical operations, treating Python as a simple calculator:"
   ]
  },
  {
   "cell_type": "code",
   "execution_count": null,
   "metadata": {
    "collapsed": false
   },
   "outputs": [],
   "source": [
    "# addition\n",
    "1378 + 6670"
   ]
  },
  {
   "cell_type": "code",
   "execution_count": null,
   "metadata": {
    "collapsed": false
   },
   "outputs": [],
   "source": [
    "# division\n",
    "81 / 9"
   ]
  },
  {
   "cell_type": "code",
   "execution_count": null,
   "metadata": {
    "collapsed": false
   },
   "outputs": [],
   "source": [
    "# exponention\n",
    "13**6"
   ]
  },
  {
   "cell_type": "markdown",
   "metadata": {},
   "source": [
    "_Note: the lines beginning with `#` above are comments, and are ignored by the Python interpreter. You can use comments after some code on the same line too - everything after the `#` will be ignored. You should use comments often to annotate your code. It will help you and others to understand your programs after you've written them._"
   ]
  },
  {
   "cell_type": "markdown",
   "metadata": {},
   "source": [
    "Values can be assigned to a variable name, which allows them to be refered to and reused later on."
   ]
  },
  {
   "cell_type": "code",
   "execution_count": null,
   "metadata": {
    "collapsed": false
   },
   "outputs": [],
   "source": [
    "a = 3\n",
    "b = 7\n",
    "c = 1\n",
    "\n",
    "a * (b + c) # equivalent to 3 x (7 + 1)"
   ]
  },
  {
   "cell_type": "markdown",
   "metadata": {},
   "source": [
    "You should notice that the assignment of a name to a value is done with the `=` symbol. It's also very important to note that each line doesn't end with some character, like `;`, as is the case in many other languages. Instead, the line breaks are interpreted as the ending of each statement. This is the first example of 'empty' characters, known as _whitespace_, being important in the syntax of Python. We'll see other examples of this later, as well as some cases where line returns can be ignored in the middle of a statement."
   ]
  },
  {
   "cell_type": "markdown",
   "metadata": {},
   "source": [
    "#### Floating Point Numbers"
   ]
  },
  {
   "cell_type": "markdown",
   "metadata": {
    "collapsed": true
   },
   "source": [
    "As well as integers, we can also use numeric values with decimal places of precision. These are referred to as _floating point numbers_ or 'floats'."
   ]
  },
  {
   "cell_type": "code",
   "execution_count": null,
   "metadata": {
    "collapsed": false
   },
   "outputs": [],
   "source": [
    "d = 0.25\n",
    "e = 3.14\n",
    "f = .33\n",
    "\n",
    "d + e - f"
   ]
  },
  {
   "cell_type": "markdown",
   "metadata": {},
   "source": [
    "We can also operate on a mix of the two different types."
   ]
  },
  {
   "cell_type": "code",
   "execution_count": null,
   "metadata": {
    "collapsed": false
   },
   "outputs": [],
   "source": [
    "a * f"
   ]
  },
  {
   "cell_type": "markdown",
   "metadata": {},
   "source": [
    "Despite the capability to mix these two types together like that, it's important to know that you can get different behavious depending on which type you use. For example, depending on which version of Python you're using, you might find that you get unexpected results when dividing integers:"
   ]
  },
  {
   "cell_type": "code",
   "execution_count": null,
   "metadata": {
    "collapsed": false
   },
   "outputs": [],
   "source": [
    "%%script python2\n",
    "\n",
    "g = 10\n",
    "h = 4\n",
    "print(g/h)"
   ]
  },
  {
   "cell_type": "code",
   "execution_count": null,
   "metadata": {
    "collapsed": false
   },
   "outputs": [],
   "source": [
    "%%script python3\n",
    "\n",
    "g = 10\n",
    "h = 4\n",
    "print(g/h)"
   ]
  },
  {
   "cell_type": "markdown",
   "metadata": {},
   "source": [
    "_Note: the `print` function diplays (prints out) the value of whatever variables it is given in the `()` parentheses._"
   ]
  },
  {
   "cell_type": "markdown",
   "metadata": {},
   "source": [
    "#### Object Types"
   ]
  },
  {
   "cell_type": "markdown",
   "metadata": {},
   "source": [
    "These integers and floats are treated differently because they are different _types_ of variable. In other languages, the type of a variable must be formally decalred when it is created but in Python the type of a variable is determined by the value that it has been assigned. Two things are important for you to know at this point:\n",
    "\n",
    "1. You can check the type of a variable at any time with the `type` function\n",
    "2. At any time the value of a variable can be replaced, such that a variable of the same name can have several different types within the same program"
   ]
  },
  {
   "cell_type": "code",
   "execution_count": null,
   "metadata": {
    "collapsed": false
   },
   "outputs": [],
   "source": [
    "type(a)"
   ]
  },
  {
   "cell_type": "code",
   "execution_count": null,
   "metadata": {
    "collapsed": false
   },
   "outputs": [],
   "source": [
    "type(f)"
   ]
  },
  {
   "cell_type": "code",
   "execution_count": null,
   "metadata": {
    "collapsed": true
   },
   "outputs": [],
   "source": [
    "f = 100"
   ]
  },
  {
   "cell_type": "code",
   "execution_count": null,
   "metadata": {
    "collapsed": false
   },
   "outputs": [],
   "source": [
    "type(f)"
   ]
  },
  {
   "cell_type": "markdown",
   "metadata": {},
   "source": [
    "This is important, because it means that it's up to you as the developer to avoid accidentally overwriting the value of one variable with another. Python won't warn you when this happens, so you might only realise that something has gone wrong much later on."
   ]
  },
  {
   "cell_type": "markdown",
   "metadata": {},
   "source": [
    "#### Strings"
   ]
  },
  {
   "cell_type": "markdown",
   "metadata": {},
   "source": [
    "It's time to introduce a third type of data, strings:"
   ]
  },
  {
   "cell_type": "code",
   "execution_count": null,
   "metadata": {
    "collapsed": false
   },
   "outputs": [],
   "source": [
    "my_string = \"hello world\"\n",
    "type(my_string)"
   ]
  },
  {
   "cell_type": "markdown",
   "metadata": {},
   "source": [
    "A string is a sequence of characters: in the example above, some letters and a space. The string value must be enclosed in quotation marks. You can use single `''` or double `\"\"` quotation marks: they don't have different meanings in Python - just make sure that you don't mix the two together!"
   ]
  },
  {
   "cell_type": "markdown",
   "metadata": {},
   "source": [
    "You can perform some of the same operations on strings that you can on numeric data, such as addition. Python won't let you combine the two, though:"
   ]
  },
  {
   "cell_type": "code",
   "execution_count": null,
   "metadata": {
    "collapsed": false
   },
   "outputs": [],
   "source": [
    "second_string = \"hallo welt\"\n",
    "\n",
    "my_string + second_string"
   ]
  },
  {
   "cell_type": "code",
   "execution_count": null,
   "metadata": {
    "collapsed": false
   },
   "outputs": [],
   "source": [
    "my_string + 14"
   ]
  },
  {
   "cell_type": "markdown",
   "metadata": {},
   "source": [
    "#### Error Messages"
   ]
  },
  {
   "cell_type": "markdown",
   "metadata": {},
   "source": [
    "Executing the cell above caused an error, which results in an error message being output. this eeror message is reproduced below:\n",
    "\n",
    "```\n",
    "---------------------------------------------------------------------------\n",
    "TypeError                                 Traceback (most recent call last)\n",
    "<ipython-input-57-7b2c260e57d6> in <module>()\n",
    "----> 1 my_string + 14\n",
    "\n",
    "TypeError: must be str, not int\n",
    "```\n",
    "\n",
    "Let's take a moment to understand what this message is telling us. At the top of the message, we get a heading that tells us what kind of error has arisen - a `TypeError`. This means that the error is in some way related to the _type_ of the objects being operated on. \n",
    "\n",
    "Next, we have what is referred to as the _Traceback_ - a tracking of the error through the stack of operations that were being attempted. _(In this case, the traceback only contains one block, but in more complicated programs the traceback can be much longer, as the error is traced through all of the lines of code in many different files/locations that are involved in a particular operation. In general, if you do get a long traceback you can ignore the middle blocks and only look at the first one and the last one.)_ In the traceback itself, we see a weird name for the code cell above - `<ipython-input-57-7b2c260e57d6> in <module>()`. This can be ignored.\n",
    "\n",
    "Now the most helpful part, an arrow `---->` pointing to the line where the error occurred. Often there will also be a second pointer `^` on the line below to provide further guidance as to where (Python thinks) the error can be found.\n",
    "\n",
    "Last but not least, we get the error message text itself: `TypeError: must be str, not int`. This tells us more about the problem encountered. In this case, the issue is that when we try to use addition on a string, Python expects another string to be provided, and we gave it an integer. Some other languages will do strange things in these circumstances, such as converting the `14` to a string and returning `hello world14`, but Python simply won't allow it and throws an error."
   ]
  },
  {
   "cell_type": "markdown",
   "metadata": {},
   "source": [
    "#### Type conversions"
   ]
  },
  {
   "cell_type": "markdown",
   "metadata": {},
   "source": [
    "If `hello world14` was actually what you wanted from the operation above, you need to first convert the integer value `14` to a string. This is done using the `str` function:"
   ]
  },
  {
   "cell_type": "code",
   "execution_count": null,
   "metadata": {
    "collapsed": false
   },
   "outputs": [],
   "source": [
    "my_string + str(14)"
   ]
  },
  {
   "cell_type": "markdown",
   "metadata": {},
   "source": [
    "#### Attributes & Methods"
   ]
  },
  {
   "cell_type": "markdown",
   "metadata": {},
   "source": [
    "In Python everything is an _object_. This means that these pieces of data - an integer, a float, a string of characters - carry with them additional information about the data (referred to as _attributes_) and instructions for common operations (called _methods_) that you might want to perform with data of its particular type.\n",
    "\n",
    "Objects of different types carry different attributes and methods. To see the available options for any given variable, you can use the `dir` function:"
   ]
  },
  {
   "cell_type": "code",
   "execution_count": null,
   "metadata": {
    "collapsed": false
   },
   "outputs": [],
   "source": [
    "type(my_string)"
   ]
  },
  {
   "cell_type": "code",
   "execution_count": null,
   "metadata": {
    "collapsed": false
   },
   "outputs": [],
   "source": [
    "dir(my_string) # attributes and methods for a string object"
   ]
  },
  {
   "cell_type": "code",
   "execution_count": null,
   "metadata": {
    "collapsed": false
   },
   "outputs": [],
   "source": [
    "type(a)"
   ]
  },
  {
   "cell_type": "code",
   "execution_count": null,
   "metadata": {
    "collapsed": false
   },
   "outputs": [],
   "source": [
    "dir(a) # attributes and methods for a string object"
   ]
  },
  {
   "cell_type": "markdown",
   "metadata": {},
   "source": [
    "A lot of the things in those lists look a bit strange. The names flanked by double-underscores e.g. `__reduce__` are intended for internal use for the object only; it's the names at the end of the lists, which don't have flanking underscores, that you should take note of.\n",
    "\n",
    "In the case of the string object, `my_string`, available methods include `upper`, `endswith`, and `split`, which can respectively be used to convert letters to upper case, check whether the string ends with a specified substring, and split the string into substrings. These are all commonly-required string operations. The integer object, `a`, carries attributes common to numeric data types, such as `numerator` and `denominator`, and methods to convert the integer to/from raw bytes."
   ]
  },
  {
   "cell_type": "markdown",
   "metadata": {},
   "source": [
    "To access an attribute of an object, specify the name of the object followed by a dot `.` and the name of the attribute:"
   ]
  },
  {
   "cell_type": "code",
   "execution_count": null,
   "metadata": {
    "collapsed": false
   },
   "outputs": [],
   "source": [
    "a.numerator"
   ]
  },
  {
   "cell_type": "markdown",
   "metadata": {},
   "source": [
    "Use the same syntax to invoke a method of an object, but with a set of `()` parentheses at the end:"
   ]
  },
  {
   "cell_type": "code",
   "execution_count": null,
   "metadata": {
    "collapsed": false
   },
   "outputs": [],
   "source": [
    "my_string.upper()"
   ]
  },
  {
   "cell_type": "markdown",
   "metadata": {},
   "source": [
    "These parentheses are important: they are how information and other items required to control the action of the method are provided. Such additional pieces of data for the method are called _arguments_."
   ]
  },
  {
   "cell_type": "markdown",
   "metadata": {},
   "source": [
    "#### Getting Help"
   ]
  },
  {
   "cell_type": "markdown",
   "metadata": {},
   "source": [
    "For an example of using arguments, let's use the `count` method of our string object. First, we need to see how to use the method. We can use the `help` function to get more information about usage of any object, function, or method."
   ]
  },
  {
   "cell_type": "code",
   "execution_count": null,
   "metadata": {
    "collapsed": false
   },
   "outputs": [],
   "source": [
    "help(my_string.count)"
   ]
  },
  {
   "cell_type": "markdown",
   "metadata": {},
   "source": [
    "The output of that function call is reproduced below:\n",
    "\n",
    "```\n",
    "Help on built-in function count:\n",
    "\n",
    "count(...) method of builtins.str instance\n",
    "    S.count(sub[, start[, end]]) -> int\n",
    "    \n",
    "    Return the number of non-overlapping occurrences of substring sub in\n",
    "    string S[start:end].  Optional arguments start and end are\n",
    "    interpreted as in slice notation.\n",
    "```\n",
    "\n",
    "The help message starts with a definition of what was passed to it: `count(...) method of builtins.str instance` (in other words, the `count` method of a string object). Next, we get an example of how to use the method (the `usage statement`):\n",
    "\n",
    "`S.count(sub[, start[, end]]) -> int`\n",
    "\n",
    "This tells us that the method takes at least one argument (`sub`), but can take two or three. We can see that `start` and `end` are optional arguments, because they are enclosed in `[]` square brackets. The usage statement also tells us that the method call will return an integer value (`-> int`).\n",
    "\n",
    "The third part of the output from `help` is a short description of the method and its usage. We will cover what is meant by \"slice notation\" soon."
   ]
  },
  {
   "cell_type": "markdown",
   "metadata": {},
   "source": [
    "Now that we know how to use count, let's try invoking it:"
   ]
  },
  {
   "cell_type": "code",
   "execution_count": null,
   "metadata": {
    "collapsed": false
   },
   "outputs": [],
   "source": [
    "my_string.count(\"o\")"
   ]
  },
  {
   "cell_type": "code",
   "execution_count": null,
   "metadata": {
    "collapsed": false
   },
   "outputs": [],
   "source": [
    "my_string.count(\"ll\")"
   ]
  },
  {
   "cell_type": "code",
   "execution_count": null,
   "metadata": {
    "collapsed": false
   },
   "outputs": [],
   "source": [
    "my_string.count(\"H\")"
   ]
  },
  {
   "cell_type": "markdown",
   "metadata": {},
   "source": [
    "Note that you must provide the letter/string to be counted enclosed in quotation marks `\"\"` or `''`. Also note that the counting is case sensitive.\n",
    "\n",
    "You can capture the output of these operations in another variable:"
   ]
  },
  {
   "cell_type": "code",
   "execution_count": null,
   "metadata": {
    "collapsed": true
   },
   "outputs": [],
   "source": [
    "shouting = my_string.upper()"
   ]
  },
  {
   "cell_type": "code",
   "execution_count": null,
   "metadata": {
    "collapsed": false
   },
   "outputs": [],
   "source": [
    "print(shouting)"
   ]
  },
  {
   "cell_type": "markdown",
   "metadata": {},
   "source": [
    "So far, so good. But, in order to really start doing some of the things that programming is most useful for, we need to start working with larger collections of data."
   ]
  },
  {
   "cell_type": "markdown",
   "metadata": {},
   "source": [
    "### Data Structures"
   ]
  },
  {
   "cell_type": "markdown",
   "metadata": {
    "collapsed": true
   },
   "source": [
    "#### Lists"
   ]
  },
  {
   "cell_type": "markdown",
   "metadata": {},
   "source": [
    "One of the fundamental collections of data in Python is the _list_. A list is an ordered sequence of values. The values can be of any type in any combination. Below is an example of a list of strings, which is created by wrapping the comma-separated values in `[]` square brackets:"
   ]
  },
  {
   "cell_type": "code",
   "execution_count": null,
   "metadata": {
    "collapsed": true
   },
   "outputs": [],
   "source": [
    "shopping = ['bread', 'potatoes', 'eggs', 'flour', 'rubber duck', 'pizza', 'milk']"
   ]
  },
  {
   "cell_type": "markdown",
   "metadata": {},
   "source": [
    "Because lists are ordered, we can access the entries based on their position in the list - their _index_. This is where we have to introduce one of the more confusing things about Python: indexing begins at 0. So, to access the first entry in the example list, we use the following syntax:"
   ]
  },
  {
   "cell_type": "code",
   "execution_count": null,
   "metadata": {
    "collapsed": false
   },
   "outputs": [],
   "source": [
    "shopping[0]"
   ]
  },
  {
   "cell_type": "markdown",
   "metadata": {},
   "source": [
    "We can use this indexing to change the values at the different positions of the list:"
   ]
  },
  {
   "cell_type": "code",
   "execution_count": null,
   "metadata": {
    "collapsed": false
   },
   "outputs": [],
   "source": [
    "shopping[6] = \"sausages\"\n",
    "shopping"
   ]
  },
  {
   "cell_type": "markdown",
   "metadata": {},
   "source": [
    "To add a new entry to the end of a list, use the `append` method:"
   ]
  },
  {
   "cell_type": "code",
   "execution_count": null,
   "metadata": {
    "collapsed": false
   },
   "outputs": [],
   "source": [
    "shopping.append(\"basil\")\n",
    "shopping"
   ]
  },
  {
   "cell_type": "markdown",
   "metadata": {},
   "source": [
    "To add a new entry in another position, without overwriting the value already at that index, use the `insert` method:"
   ]
  },
  {
   "cell_type": "code",
   "execution_count": null,
   "metadata": {
    "collapsed": false
   },
   "outputs": [],
   "source": [
    "shopping.insert(3, 'spaghetti')\n",
    "shopping"
   ]
  },
  {
   "cell_type": "markdown",
   "metadata": {},
   "source": [
    "When you `insert` a new value, all of the entries to the right of that position are shifted up by one to make room.\n",
    "\n",
    "You can further control the order of lists using the `sort` and `reverse` methods:"
   ]
  },
  {
   "cell_type": "code",
   "execution_count": null,
   "metadata": {
    "collapsed": false
   },
   "outputs": [],
   "source": [
    "shopping.reverse()\n",
    "shopping"
   ]
  },
  {
   "cell_type": "code",
   "execution_count": null,
   "metadata": {
    "collapsed": false
   },
   "outputs": [],
   "source": [
    "shopping.sort()\n",
    "shopping"
   ]
  },
  {
   "cell_type": "markdown",
   "metadata": {},
   "source": [
    "#### Tuples and Mutability"
   ]
  },
  {
   "cell_type": "markdown",
   "metadata": {},
   "source": [
    "Another type of data in Python is the _tuple_. Below is an example:"
   ]
  },
  {
   "cell_type": "code",
   "execution_count": null,
   "metadata": {
    "collapsed": true
   },
   "outputs": [],
   "source": [
    "fibonacci = (1, 1, 2, 3, 5, 8, 13, 21)"
   ]
  },
  {
   "cell_type": "markdown",
   "metadata": {},
   "source": [
    "Tuples are similar to lists in a few ways: they are ordered sequences of values, and these values be accessed by index. They are defined in a similar way, too: only using `()` parentheses instead of `[]` square brackets. However, there is a key difference - tuples are _immutable_.\n",
    "\n",
    "An immutable object is an object whose value cannot be changed in place after it has been set. We've already seen that lists are not immutable (they are _mutable_), because we were able to change the order of our `shopping` list, add new entries etc. Once a tuple has it's entries, those entries cannot be rearranged or altered:"
   ]
  },
  {
   "cell_type": "code",
   "execution_count": null,
   "metadata": {
    "collapsed": false
   },
   "outputs": [],
   "source": [
    "fibonacci[2] = 49"
   ]
  },
  {
   "cell_type": "markdown",
   "metadata": {},
   "source": [
    "This is a subtle difference, but quite an important one. Tuples should be used whenever you want to be sure that a collection of information only makes sense together and in the order specified, such as with our Fibonacci sequence above.\n",
    "\n",
    "Other immutable data types include strings, integers, and floats."
   ]
  },
  {
   "cell_type": "markdown",
   "metadata": {},
   "source": [
    "#### Dictionaries"
   ]
  },
  {
   "cell_type": "markdown",
   "metadata": {},
   "source": [
    "The last data structure that it is important to introduce at this stage is the _dictionary_. This is a good data structure to use whenever you have paired data, such as language courses and their numbers of students in the example below:"
   ]
  },
  {
   "cell_type": "code",
   "execution_count": null,
   "metadata": {
    "collapsed": false
   },
   "outputs": [],
   "source": [
    "studentNumbers = { 'Hungarian': 16, \n",
    "                   'Hindi': 12,\n",
    "                   'Portuguese': 20,\n",
    "                   'Finnish': 9,\n",
    "                   'English': 9 }"
   ]
  },
  {
   "cell_type": "markdown",
   "metadata": {},
   "source": [
    "_Note: the dictionary above could have been defined on a single line, as_\n",
    "\n",
    "```Python\n",
    "studentNumbers = {'Hungarian': 16, 'Hindi': 12, 'Portuguese': 20, 'Finnish': 3, 'English': 9}\n",
    "```\n",
    "\n",
    "_but the Python interpreter also understands the construction when it is split over multiple lines, and I think that the multi-line approach is a bit easier to read._"
   ]
  },
  {
   "cell_type": "markdown",
   "metadata": {},
   "source": [
    "Each dictionary entry is a pair: a _key_, in this case the language; and a _value_, the integer, associated with that key. To access the value associated with a particular key, use \n",
    "\n",
    "`dictionary[key]`\n",
    "\n",
    "So, to access the number of students in the Finnish class in our the `studentNumbers` example dictionary, we would type:"
   ]
  },
  {
   "cell_type": "code",
   "execution_count": null,
   "metadata": {
    "collapsed": false
   },
   "outputs": [],
   "source": [
    "studentNumbers['Finnish']"
   ]
  },
  {
   "cell_type": "markdown",
   "metadata": {},
   "source": [
    "A dictionary can't contain duplicate keys, but can contain duplicate values i.e. `studentNumbers` could contain multiple courses with 8 students each, but only one entry for Polish, one for Italian, and so on.\n",
    "\n",
    "To change the value associated with a particular key, we use the same syntax as above, combined with the `=` assignment operator:"
   ]
  },
  {
   "cell_type": "code",
   "execution_count": null,
   "metadata": {
    "collapsed": false
   },
   "outputs": [],
   "source": [
    "studentNumbers['Hungarian'] = 8\n",
    "print(studentNumbers)"
   ]
  },
  {
   "cell_type": "markdown",
   "metadata": {},
   "source": [
    "Similarly, to create a new entry use the new key in the `[]` square brackets:"
   ]
  },
  {
   "cell_type": "code",
   "execution_count": null,
   "metadata": {
    "collapsed": true
   },
   "outputs": [],
   "source": [
    "studentNumbers['Dutch'] = 14"
   ]
  },
  {
   "cell_type": "markdown",
   "metadata": {},
   "source": [
    "_Note: in recent versions of Python, dictionaries remember the order in which their entries were created. Dictionaries had no inherent, fixed order until relatively recently, and this should not be relied upon._\n",
    "\n",
    "The keys to a dictionary can be any immutable data type (strings, integers, ...) and the values can be of any type at all, and need not be consistent for all entries."
   ]
  },
  {
   "cell_type": "code",
   "execution_count": null,
   "metadata": {
    "collapsed": true
   },
   "outputs": [],
   "source": []
  }
 ],
 "metadata": {
  "kernelspec": {
   "display_name": "Python 3",
   "language": "python",
   "name": "python3"
  },
  "language_info": {
   "codemirror_mode": {
    "name": "ipython",
    "version": 3
   },
   "file_extension": ".py",
   "mimetype": "text/x-python",
   "name": "python",
   "nbconvert_exporter": "python",
   "pygments_lexer": "ipython3",
   "version": "3.6.0"
  }
 },
 "nbformat": 4,
 "nbformat_minor": 2
}
